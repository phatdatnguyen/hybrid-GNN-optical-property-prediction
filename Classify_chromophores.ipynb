{
 "cells": [
  {
   "cell_type": "markdown",
   "id": "d1aa19ac",
   "metadata": {},
   "source": [
    "# Import libraries"
   ]
  },
  {
   "cell_type": "code",
   "execution_count": null,
   "id": "008947a4-481c-44aa-9c48-fa576373167b",
   "metadata": {},
   "outputs": [],
   "source": [
    "import os\n",
    "import pandas as pd\n",
    "from rdkit import Chem"
   ]
  },
  {
   "cell_type": "markdown",
   "id": "0de6e3cc",
   "metadata": {},
   "source": [
    "# Load data"
   ]
  },
  {
   "cell_type": "code",
   "execution_count": null,
   "id": "212f51b6",
   "metadata": {},
   "outputs": [],
   "source": [
    "# Path to the dataset file\n",
    "data_file_path = './Datasets/ABS_with_solvent_MGCF_AvalonFP_RDKitFP_100_eval.csv'   # Options: 'Abs_unique.csv', 'Abs_with_solvent', 'Ems_unique.csv', 'Ems_with_solvent.csv'\n",
    "\n",
    "# Read the dataset\n",
    "df = pd.read_csv(data_file_path)"
   ]
  },
  {
   "cell_type": "markdown",
   "id": "aedd3190",
   "metadata": {},
   "source": [
    "# Pattern matching function"
   ]
  },
  {
   "cell_type": "code",
   "execution_count": null,
   "id": "1ceb46d4",
   "metadata": {},
   "outputs": [],
   "source": [
    "# Define patterns for each fluorophore class\n",
    "fluorophore_classes = {\n",
    "    'Coumarin': ['O=C1C=CC2=C(O1)C=CC=C2', 'O=c1ccc(cccc2)c2o1'],\n",
    "    'Fluorescein': ['Oc1cc2oc3cc(O)ccc3c(c4ccccc4C(O)=O)c2cc1', 'Oc(c1)ccc2c1oc(cc(O)cc3)c3c42c5c(C(O4)=O)cccc5', 'Oc(c1)ccc2c1oc(cc(=O)cc3)c3c2c4c(C(O)=O)cccc4', 'c1ccc2c(c1)C(=O)OC23c4ccc(cc4Oc5c3ccc(c5)O)O', 'O=C(OC12C3=CC=C(O)C=C3OC4=C2C=CC(O)=C4)C5=C1C=CC=C5', 'O=C(O)c1ccccc1C2=C3C=CC(C=C3Oc4cc(O)ccc42)=O', 'OC(C1=C(C2=C3C=CC(C=C3OC4=C2C=CC(O)=C4)=O)C=CC=C1)=O'],\n",
    "    'Rhodamine': ['Nc1cc2oc3cc(N)ccc3c(c4ccccc4C(O)=O)c2cc1', 'Nc(c1)ccc2c1oc(cc(=[NH2+])cc3)c3c2c4c(C([O-])=O)cccc4', 'Nc(c1)ccc2c1oc(cc(=[NH2+])cc3)c3c2c4c(C(O)=O)cccc4', 'O=C1c2ccccc2C3(c4c(Oc5cc(N)ccc53)cc(N)cc4)O1', 'O=C1OC2(C3=C(OC4=C2C=CC(N)=C4)C=C(N)C=C3)C5=C1C=CC=C5', 'O=C([O-])c1ccccc1C2=C3C=CC(C=C3Oc4cc(N)ccc42)=[NH2+]', 'O=C(c1c(C2=C3C=CC(C=C3Oc4c2ccc(N)c4)=[NH2+])cccc1)O', '[O-]C(C1=C(C2=C3C=CC(C=C3OC4=C2C=CC(N)=C4)=[NH2+])C=CC=C1)=O'],\n",
    "    'Rosamine': ['Nc1cc2oc3cc(N)ccc3c(c4ccccc4)c2cc1', 'Nc1cc2c(C(c3ccccc3)=C4C=CC(C=C4O2)=[NH2+])cc1', '[NH2+]=C(C=C1OC2=C3C=CC(N)=C2)C=CC1=C3C4=CC=CC=C4'],\n",
    "    'Cyanine3': ['CC1(C(/C=C/C=C2Nc3c(C/2(C)C)cccc3)=[NH+]c4c1cccc4)C', 'CC1(C)C2=C([N+]=C1/C=C/C=C3C(C)(C)C4=C(C=CC=C4)N\\\\3)C=CC=C2'],\n",
    "    'Cyanine5': ['CC1(C(/C=C/C=C/C=C2Nc3c(C/2(C)C)cccc3)=[NH+]c4c1cccc4)C', 'CC1(C)C2=C([NH+]=C1/C=C/C=C/C=C3C(C)(C)C4=C(C=CC=C4)N\\\\3)C=CC=C2'],\n",
    "    'Cyanine7': ['CC1(C(/C=C/C=C/C=C/C=C2Nc3c(C/2(C)C)cccc3)=[NH+]c4c1cccc4)C', 'CC1(C)C2=C([NH+]=C1/C=C/C=C/C=C/C=C3C(C)(C)C4=C(C=CC=C4)N\\\\3)C=CC=C2'],\n",
    "    'Pyrene': ['c1cc2cccc3c2c4c1cccc4cc3', 'C12=CC=C3C=CC=C4C=CC(C2=C34)=CC=C1'],\n",
    "    'Anthracene': ['c1ccc2cc3ccccc3cc2c1', 'C12=CC=CC=C1C=C3C=CC=CC3=C2'],\n",
    "    'Fluorenone': ['O=C1c2ccccc2c3c1cccc3', 'O=C(C1=CC=CC=C12)C3=C2C=CC=C3'],\n",
    "    'Xanthone': ['O=C(c1c(O2)cccc1)c3c2cccc3', 'O=C1C2=C(OC3=C1C=CC=C3)C=CC=C2'],\n",
    "    'Phenoxazine': ['c1(nc(cccc2)c2o3)c3cccc1', 'c1(Nc2c(O3)cccc2)c3cccc1', 'C1(NC2=C(C=CC=C2)O3)=C3C=CC=C1', 'O=C(C=C1O2)C=CC1=Nc3c2cccc3', 'O=C1C=C2OC3=C(C=CC=C3)N=C2C=C1', 'N=C(C=C1O2)C=CC1=Nc3c2cccc3', 'N=C1C=C2OC3=C(C=CC=C3)N=C2C=C1'],\n",
    "    'BODIPY': ['[B-]1(*)(*)(n2cccc2C=C3C=CC=[N+]31)', '[B-]1(*)(*)(N2C=CC=C2C=C3[N+]1=CC=C3)'],\n",
    "    'Aza-BODIPY': ['[B-]1(*)(*)n2c(N=C3C=CC=[N+]13)ccc2', '[B-]1(*)(*)(n2cccc2N=C3C=CC=[N+]31)', '[B-]1(*)(*)(N2C=CC=C2N=C3[N+]1=CC=C3)'],\n",
    "    'Naphthalimide': ['O=C(c1c(c2ccc3)c3ccc1)NC2=O', 'O=C1C2=C3C(C=CC=C3C(N1)=O)=CC=C2'],\n",
    "}"
   ]
  },
  {
   "cell_type": "code",
   "execution_count": null,
   "id": "6aa0e01e",
   "metadata": {},
   "outputs": [],
   "source": [
    "# Generate RDKit Mol objects for each pattern\n",
    "patterns_smarts = dict()\n",
    "for class_name, smiles_list in fluorophore_classes.items():\n",
    "    pattern_mols = []\n",
    "    for pattern_smiles in smiles_list:\n",
    "        pattern_mols.append(Chem.MolFromSmarts(pattern_smiles))\n",
    "    patterns_smarts[class_name] = pattern_mols\n",
    "\n",
    "patterns_smiles = dict()\n",
    "for class_name, smiles_list in fluorophore_classes.items():\n",
    "    pattern_mols = []\n",
    "    for pattern_smiles in smiles_list:\n",
    "        pattern_mols.append(Chem.MolFromSmiles(pattern_smiles))\n",
    "    patterns_smiles[class_name] = pattern_mols"
   ]
  },
  {
   "cell_type": "code",
   "execution_count": null,
   "id": "0b1f2e87",
   "metadata": {},
   "outputs": [],
   "source": [
    "# Function to classify a molecule based on pattern matching\n",
    "def classify_molecule(smiles):\n",
    "    mol = Chem.MolFromSmiles(smiles)\n",
    "    if mol is None:\n",
    "        return 'Invalid SMILES'\n",
    "    matches = []\n",
    "    for class_name, _ in fluorophore_classes.items():\n",
    "        for pattern_mol in patterns_smarts[class_name]:\n",
    "            if mol.HasSubstructMatch(pattern_mol):\n",
    "                matches.append(class_name)\n",
    "                break\n",
    "        \n",
    "        if not matches:\n",
    "            for pattern_mol in patterns_smiles[class_name]:\n",
    "                if pattern_mol is not None:\n",
    "                    if mol.HasSubstructMatch(pattern_mol):\n",
    "                        matches.append(class_name)\n",
    "                        break\n",
    "\n",
    "    if matches:\n",
    "        # If a molecule matches multiple classes, join them with commas\n",
    "        return ', '.join(matches)\n",
    "    else:\n",
    "        return 'Other'"
   ]
  },
  {
   "cell_type": "markdown",
   "id": "54416562",
   "metadata": {},
   "source": [
    "# Apply pattern matching"
   ]
  },
  {
   "cell_type": "code",
   "execution_count": null,
   "id": "2726705b",
   "metadata": {},
   "outputs": [],
   "source": [
    "# Apply the classification function to the DataFrame\n",
    "df['Class'] = df['Chromophore'].apply(classify_molecule)"
   ]
  },
  {
   "cell_type": "markdown",
   "id": "734e15b2",
   "metadata": {},
   "source": [
    "# Export to a new CSV file"
   ]
  },
  {
   "cell_type": "code",
   "execution_count": null,
   "id": "0a481a4e",
   "metadata": {},
   "outputs": [],
   "source": [
    "data_file_name = os.path.basename(data_file_path)\n",
    "data_file_name_without_ext = os.path.splitext(data_file_name)[0]\n",
    "df.to_csv(f'./Datasets/{data_file_name_without_ext}_classes.csv', index=False)"
   ]
  },
  {
   "cell_type": "code",
   "execution_count": null,
   "id": "d70dda42",
   "metadata": {},
   "outputs": [],
   "source": []
  }
 ],
 "metadata": {
  "kernelspec": {
   "display_name": "gnn-env",
   "language": "python",
   "name": "python3"
  },
  "language_info": {
   "codemirror_mode": {
    "name": "ipython",
    "version": 3
   },
   "file_extension": ".py",
   "mimetype": "text/x-python",
   "name": "python",
   "nbconvert_exporter": "python",
   "pygments_lexer": "ipython3",
   "version": "3.10.11"
  }
 },
 "nbformat": 4,
 "nbformat_minor": 5
}
